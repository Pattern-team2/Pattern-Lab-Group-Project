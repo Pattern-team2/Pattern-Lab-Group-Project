{
 "cells": [
  {
   "cell_type": "markdown",
   "metadata": {},
   "source": [
    "# Reading The Real Data"
   ]
  },
  {
   "cell_type": "code",
   "execution_count": 1,
   "metadata": {},
   "outputs": [],
   "source": [
    "x = open(r'C:\\Users\\Riyasaat Ahmed Rahul\\Desktop\\pattern papers\\Data\\Results\\5289_neg\\Real Data.fasta', 'r')\n",
    "a = x.read()\n",
    "x.close()"
   ]
  },
  {
   "cell_type": "markdown",
   "metadata": {},
   "source": [
    "# Data Preprocessing for Smaller Dataset"
   ]
  },
  {
   "cell_type": "code",
   "execution_count": 2,
   "metadata": {},
   "outputs": [],
   "source": [
    "a = a.replace(\">-sample\", \"555\")\n",
    "a = a.replace(\"\\n\", \"\")\n",
    "sequence = list(a.split(\"555\")) \n",
    "sequence.pop(0)\n",
    "main_data = ''\n",
    "for i in range(1000):\n",
    "        main_data += '>'+str(i)+'|1|training\\n'\n",
    "        main_data += sequence[i]+'\\n'"
   ]
  },
  {
   "cell_type": "markdown",
   "metadata": {},
   "source": [
    "# Writing The Data for Smaller Dataset"
   ]
  },
  {
   "cell_type": "code",
   "execution_count": 3,
   "metadata": {},
   "outputs": [],
   "source": [
    "f = open(r'C:\\Users\\Riyasaat Ahmed Rahul\\Desktop\\pattern papers\\Data\\Results\\5289_neg\\1\\1000_neg.fasta', 'a')\n",
    "f.write(main_data)\n",
    "f.close()"
   ]
  },
  {
   "cell_type": "markdown",
   "metadata": {},
   "source": [
    "# Data Preprocessing for Larger Dataset"
   ]
  },
  {
   "cell_type": "code",
   "execution_count": 4,
   "metadata": {},
   "outputs": [],
   "source": [
    "a = a.replace(\">-sample\", \"555\")\n",
    "a = a.replace(\"\\n\", \"\")\n",
    "sequence = list(a.split(\"555\")) \n",
    "sequence.pop(0)\n",
    "main_data_1 = ''\n",
    "main_data_2 = ''\n",
    "main_data_3 = ''\n",
    "main_data_4 = ''\n",
    "main_data_5 = ''\n",
    "main_data_6 = ''\n",
    "for i in range(5289):\n",
    "    if i < 1000:\n",
    "        main_data_1 += '>'+str(i)+'|1|training\\n'\n",
    "        main_data_1 += sequence[i]+'\\n'\n",
    "    elif i < 2000:\n",
    "        main_data_2 += '>'+str(i)+'|1|training\\n'\n",
    "        main_data_2 += sequence[i]+'\\n'\n",
    "    elif i < 3000:\n",
    "        main_data_3 += '>'+str(i)+'|1|training\\n'\n",
    "        main_data_3 += sequence[i]+'\\n'\n",
    "    elif i < 4000:\n",
    "        main_data_4 += '>'+str(i)+'|1|training\\n'\n",
    "        main_data_4 += sequence[i]+'\\n'\n",
    "    elif i < 5000:\n",
    "        main_data_5 += '>'+str(i)+'|1|training\\n'\n",
    "        main_data_5 += sequence[i]+'\\n'\n",
    "    elif i < 6000:\n",
    "        main_data_6 += '>'+str(i)+'|1|training\\n'\n",
    "        main_data_6 += sequence[i]+'\\n'"
   ]
  },
  {
   "cell_type": "markdown",
   "metadata": {},
   "source": [
    "# Writing The Data for Larger Dataset"
   ]
  },
  {
   "cell_type": "code",
   "execution_count": 5,
   "metadata": {},
   "outputs": [],
   "source": [
    "f = open(r'C:\\Users\\Riyasaat Ahmed Rahul\\Desktop\\pattern papers\\Data\\Results\\5289_neg\\1\\1000_neg.fasta', 'a')\n",
    "f.write(main_data_1)\n",
    "f.close()\n",
    "\n",
    "f = open(r'C:\\Users\\Riyasaat Ahmed Rahul\\Desktop\\pattern papers\\Data\\Results\\5289_neg\\2\\2000_neg.fasta', 'a')\n",
    "f.write(main_data_2)\n",
    "f.close()\n",
    "\n",
    "f = open(r'C:\\Users\\Riyasaat Ahmed Rahul\\Desktop\\pattern papers\\Data\\Results\\5289_neg\\3\\3000_neg.fasta', 'a')\n",
    "f.write(main_data_3)\n",
    "f.close()\n",
    "\n",
    "f = open(r'C:\\Users\\Riyasaat Ahmed Rahul\\Desktop\\pattern papers\\Data\\Results\\5289_neg\\4\\4000_neg.fasta', 'a')\n",
    "f.write(main_data_4)\n",
    "f.close()\n",
    "\n",
    "f = open(r'C:\\Users\\Riyasaat Ahmed Rahul\\Desktop\\pattern papers\\Data\\Results\\5289_neg\\5\\5000_neg.fasta', 'a')\n",
    "f.write(main_data_5)\n",
    "f.close()\n",
    "\n",
    "f = open(r'C:\\Users\\Riyasaat Ahmed Rahul\\Desktop\\pattern papers\\Data\\Results\\5289_neg\\6\\6000_neg.fasta', 'a')\n",
    "f.write(main_data_6)\n",
    "f.close()"
   ]
  },
  {
   "cell_type": "markdown",
   "metadata": {},
   "source": [
    "# Dropping the Leftmost Column from the Dataset"
   ]
  },
  {
   "cell_type": "code",
   "execution_count": 6,
   "metadata": {},
   "outputs": [],
   "source": [
    "import pandas as pd\n",
    "df = pd.read_csv(r'C:\\Users\\Riyasaat Ahmed Rahul\\Desktop\\pattern papers\\Data\\Results\\5289_pos\\2\\Kmer-3\\training_code_normalized.txt')\n",
    "df = df.drop(['1'], axis = 1)"
   ]
  },
  {
   "cell_type": "markdown",
   "metadata": {},
   "source": [
    "# Saving the file with .npy extension"
   ]
  },
  {
   "cell_type": "code",
   "execution_count": 7,
   "metadata": {},
   "outputs": [
    {
     "ename": "NameError",
     "evalue": "name 'np' is not defined",
     "output_type": "error",
     "traceback": [
      "\u001b[1;31m---------------------------------------------------------------------------\u001b[0m",
      "\u001b[1;31mNameError\u001b[0m                                 Traceback (most recent call last)",
      "\u001b[1;32m<ipython-input-7-051bcc6bb72f>\u001b[0m in \u001b[0;36m<module>\u001b[1;34m\u001b[0m\n\u001b[1;32m----> 1\u001b[1;33m \u001b[0mnp\u001b[0m\u001b[1;33m.\u001b[0m\u001b[0msave\u001b[0m\u001b[1;33m(\u001b[0m\u001b[1;34mr'C:\\Users\\Riyasaat Ahmed Rahul\\Desktop\\pattern papers\\Data\\Results\\5289_pos\\2\\2000_pos_Kmer-3'\u001b[0m\u001b[1;33m,\u001b[0m \u001b[0mdf\u001b[0m\u001b[1;33m)\u001b[0m\u001b[1;33m\u001b[0m\u001b[1;33m\u001b[0m\u001b[0m\n\u001b[0m",
      "\u001b[1;31mNameError\u001b[0m: name 'np' is not defined"
     ]
    }
   ],
   "source": [
    "np.save(r'C:\\Users\\Riyasaat Ahmed Rahul\\Desktop\\pattern papers\\Data\\Results\\5289_pos\\2\\2000_pos_Kmer-3', df)"
   ]
  },
  {
   "cell_type": "markdown",
   "metadata": {},
   "source": [
    "# Loading the .npy file to check if it is working or not"
   ]
  },
  {
   "cell_type": "code",
   "execution_count": null,
   "metadata": {},
   "outputs": [],
   "source": [
    "final_one = np.load(r'C:\\Users\\Riyasaat Ahmed Rahul\\Desktop\\pattern papers\\Data\\Results\\5289_pos\\2\\2000_pos_PseKNC.npy')\n",
    "print(final_one)"
   ]
  },
  {
   "cell_type": "markdown",
   "metadata": {},
   "source": [
    "# Merging the Small files"
   ]
  },
  {
   "cell_type": "code",
   "execution_count": null,
   "metadata": {},
   "outputs": [],
   "source": [
    "Kmer_1 = np.load(r'C:\\Users\\Riyasaat Ahmed Rahul\\Desktop\\pattern papers\\Data\\Results\\5289_neg\\1\\1000_neg_Kmer-1.npy')\n",
    "Kmer_2 = np.load(r'C:\\Users\\Riyasaat Ahmed Rahul\\Desktop\\pattern papers\\Data\\Results\\5289_neg\\2\\2000_neg_Kmer-1.npy')\n",
    "Kmer_3 = np.load(r'C:\\Users\\Riyasaat Ahmed Rahul\\Desktop\\pattern papers\\Data\\Results\\5289_neg\\3\\3000_neg_Kmer-1.npy')\n",
    "Kmer_4 = np.load(r'C:\\Users\\Riyasaat Ahmed Rahul\\Desktop\\pattern papers\\Data\\Results\\5289_neg\\4\\4000_neg_Kmer-1.npy')\n",
    "Kmer_5 = np.load(r'C:\\Users\\Riyasaat Ahmed Rahul\\Desktop\\pattern papers\\Data\\Results\\5289_neg\\5\\5000_neg_Kmer-1.npy')\n",
    "Kmer_6 = np.load(r'C:\\Users\\Riyasaat Ahmed Rahul\\Desktop\\pattern papers\\Data\\Results\\5289_neg\\6\\6000_neg_Kmer-1.npy')\n",
    "\n",
    "\n",
    "df_1 = pd.DataFrame(Kmer_1)\n",
    "df_2 = pd.DataFrame(Kmer_2)\n",
    "df_3 = pd.DataFrame(Kmer_3)\n",
    "df_4 = pd.DataFrame(Kmer_4)\n",
    "df_5 = pd.DataFrame(Kmer_5)\n",
    "df_6 = pd.DataFrame(Kmer_6)\n",
    "frames = [df_2, df_3, df_4, df_5, df_6]\n",
    "df_1 = pd.concat(frames)\n",
    "\n",
    "np.save(r'C:\\Users\\Riyasaat Ahmed Rahul\\Desktop\\pattern papers\\Data\\Results\\5289_neg\\5298_neg_Kmer-3', df_1)"
   ]
  }
 ],
 "metadata": {
  "kernelspec": {
   "display_name": "Python 3",
   "language": "python",
   "name": "python3"
  },
  "language_info": {
   "codemirror_mode": {
    "name": "ipython",
    "version": 3
   },
   "file_extension": ".py",
   "mimetype": "text/x-python",
   "name": "python",
   "nbconvert_exporter": "python",
   "pygments_lexer": "ipython3",
   "version": "3.7.4"
  }
 },
 "nbformat": 4,
 "nbformat_minor": 2
}
